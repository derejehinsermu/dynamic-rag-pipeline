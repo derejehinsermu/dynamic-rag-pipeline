{
 "cells": [
  {
   "cell_type": "code",
   "execution_count": 1,
   "metadata": {},
   "outputs": [],
   "source": [
    "import os\n",
    "import sys\n",
    "\n",
    "# Get the absolute path of the scripts directory\n",
    "root_path_scripts = os.path.abspath(os.path.join(os.getcwd(), '../scripts/'))\n",
    "\n",
    "# Add the scripts directory to sys.path\n",
    "sys.path.append(root_path_scripts)\n",
    "\n",
    "# Import the function from load-docs.py\n",
    "from load_docs import load_document "
   ]
  },
  {
   "cell_type": "code",
   "execution_count": 3,
   "metadata": {},
   "outputs": [],
   "source": [
    "from dotenv import load_dotenv\n",
    "from langchain.embeddings import OpenAIEmbeddings\n",
    "from langchain.text_splitter import RecursiveCharacterTextSplitter\n",
    "from langchain.vectorstores import Chroma\n",
    "from langchain.chat_models import ChatOpenAI\n",
    "# from langchain.embeddings import SentenceTransformerEmbeddings\n",
    "# from chromadb.utils import embedding_functions\n",
    "from langchain.embeddings import HuggingFaceEmbeddings\n",
    "\n",
    "import openai\n",
    "from openai import OpenAI\n",
    "\n",
    "# load env variable\n",
    "load_dotenv()\n",
    "\n",
    "openai_client = OpenAI()\n",
    "openai_api_key = os.getenv('OPENAI_API_KEY')"
   ]
  },
  {
   "cell_type": "code",
   "execution_count": 4,
   "metadata": {},
   "outputs": [],
   "source": [
    "# Load the document(s)\n",
    "file_path = 'Robinson Advisory.docx'  # Replace with your actual file path\n",
    "documents = load_document(\"../data/Robinson Advisory.docx\")"
   ]
  },
  {
   "cell_type": "code",
   "execution_count": 7,
   "metadata": {},
   "outputs": [],
   "source": [
    "\n",
    "# Split the documents into chunks\n",
    "text_splitter = RecursiveCharacterTextSplitter(chunk_size=1000, chunk_overlap=200)\n",
    "split_docs = text_splitter.split_documents(documents)\n",
    "\n",
    "# Initialize Embedding model\n",
    "# embeddings = SentenceTransformerEmbeddingFunction()\n",
    "# embeddings = SentenceTransformerEmbeddings(model_name=\"all-MiniLM-L6-v2\")\n",
    "\n",
    "embeddings = HuggingFaceEmbeddings(model_name=\"all-MiniLM-L6-v2\")\n",
    "vectorstore = Chroma.from_documents(documents=split_docs, embedding=embeddings)\n"
   ]
  },
  {
   "cell_type": "code",
   "execution_count": 8,
   "metadata": {},
   "outputs": [],
   "source": [
    "\n",
    "# 5. Define the function to augment the query\n",
    "def augment_query_generated(query, model=\"gpt-4o-mini\"):\n",
    "    messages = [\n",
    "        {\n",
    "            \"role\": \"system\",\n",
    "            \"content\": (\n",
    "                \"You are a helpful expert contract advisor assistant. Provide an example answer to the given question \"\n",
    "                \"that might be found in a document like a legal contract.\"\n",
    "            )\n",
    "        },\n",
    "        {\"role\": \"user\", \"content\": query}\n",
    "    ]\n",
    "    response = openai_client.chat.completions.create(\n",
    "            model=model,\n",
    "            messages=messages,\n",
    "        )\n",
    "    content = response.choices[0].message.content\n",
    "    return content"
   ]
  },
  {
   "cell_type": "code",
   "execution_count": 10,
   "metadata": {},
   "outputs": [
    {
     "name": "stdout",
     "output_type": "stream",
     "text": [
      "Joint Query:\n",
      "Is there a non-compete obligation to the Advisor? **Non-Compete Obligation of the Advisor**\n",
      "\n",
      "The Advisor agrees that, during the term of this Agreement and for a period of twelve (12) months after the termination of this Agreement, the Advisor shall not, directly or indirectly, engage in any business activities that compete with the Company’s business operations. This includes, but is not limited to, providing advisory services to any entity that is in direct competition with the Company, operating in the same industry, or engaging in any activities that may be deemed detrimental to the interests of the Company.\n",
      "\n",
      "The Advisor acknowledges that this non-compete obligation is reasonable in scope and duration and is necessary to protect the legitimate business interests of the Company, including but not limited to its confidential information, trade secrets, and established client relationships. Any breach of this non-compete clause shall entitle the Company to seek equitable relief, including injunctions, as well as any other legal remedies available under applicable law. \n",
      "\n",
      "This non-compete clause shall be governed by the laws of the jurisdiction in which the Company is headquartered.\n",
      "\n",
      "Retrieved Documents:\n",
      "Document 1:\n",
      "Non-Compete: During the term of engagement with the Company and for a period of 12 months thereafter, Advisor shall not be involved, as an employee, owner, contractor or otherwise, in any business, which competes with the Company’s Business, and shall not solicit and/or hire any employee and/or service provider of the Company, without the prior written consent of the Company.\n",
      "\n",
      "\n",
      "Personnel: The Advisor may provide the Services only directly or through employees, contractors or agents (“Personnel”), which were specifically approved by the Company, and have committed in writing to confidentiality and ownership rights towards the Advisor and/or the Company, in a form restrictive enough to allow Advisor to comply and enforce the commitments under this undertaking (“Authorized Personnel”). Without limiting the foregoing, the Advisor is liable hereunder for any breach of this undertaking by any Advisor Personnel.\n",
      "\n",
      "Document 2:\n",
      "Advisor shall be solely responsible for any income taxes or other assessments made or imposed by any governmental authority on Advisor with respect to the Services rendered and the compensation received hereunder, and any and all expenses and costs of himself, employees, agents and representatives, including, without limitation, any salary, overtime, severance or social benefits payable thereto, and marketing costs incurred in connection with the performance of obligations hereunder.\n",
      "\n",
      "\n",
      "\n",
      "\t\tConfidentiality, Non-Competition and IP Ownership Undertaking: In connection with the performance of Advisor’s obligations under this Agreement, the Advisor shall execute a Confidentiality, Non-Competition and IP Ownership Undertaking in the form attached hereto as Exhibit A.\n",
      "\n",
      "Document 3:\n",
      "No Conflicts: Advisor represents that there is no contractual or other legal restriction preventing or limiting him/her from entering into this Agreement or performing any of his/her obligations hereunder. Advisor shall immediately and without delay inform the Company of any affairs and/or matters that might constitute a conflict of interest with his/her services to Company and/or the interests of the Company. Advisor agrees to indemnify, defend and hold harmless the Company and its directors, officers and employees against all claims, liabilities, and costs, including reasonable attorneys' fees in connection with any breach by Advisor, of any obligations pursuant to a prior or existing engagement with any other third party, including without limitation other employers or clients.\n",
      "\n",
      "\n",
      "\n",
      "\t\tTerm: The term of this Agreement shall commence on the Effective Date and shall continue until terminated in accordance with the provisions herein (the \"Term\").\n",
      "\n",
      "Document 4:\n",
      "Third Parties: The Advisor represents that the performance of the Services and the terms of this Undertaking, do not and will not breach any right, contractual or other, of any employer, customer or other third party. Advisor acknowledges that the Company is relying upon the truthfulness and accuracy of such representations in engaging with the Advisor. Advisor specifically undertakes not to use any proprietary and/or confidential information belonging to the Advisor and/or any third party while performing the Services and in case any Advisor proprietary or confidential information is used, such information will be automatically assigned to the Company and become its full and exclusive property.\n",
      "\n",
      "Document 5:\n",
      "Whereas, \tAdvisor has agreed to provide the Company with such services, subject to the terms set forth in this Agreement.\n",
      "\n",
      "\n",
      "\n",
      "NOW THEREFORE THE PARTIES AGREE AS FOLLOWS:\n",
      "\n",
      "\n",
      "\n",
      "Services:  \n",
      "\n",
      "Advisor shall provide to the Company, as an independent contractor, software development services, and / or any other services as agreed by the parties from time to time (the “Services”). Advisor shall not appoint any sub-agents or delegates in connection with performance of the Services, nor assign any of his obligations or rights hereunder without obtaining the prior written consent of the Company. \n",
      "\n",
      "Without derogating from the foregoing, the Advisor shall not be required to provide the Services for a period of eighteen (18) days in each 12-month period.\n",
      "\n"
     ]
    }
   ],
   "source": [
    "# 6. Generate the hypothetical answer and augment the query\n",
    "original_query = \"Is there a non-compete obligation to the Advisor?\"\n",
    "\n",
    "hypothetical_answer = augment_query_generated(original_query)\n",
    "\n",
    "joint_query = f\"{original_query} {hypothetical_answer}\"\n",
    "print(f\"Joint Query:\\n{joint_query}\\n\")\n",
    "\n",
    "# 7. Perform similarity search with the joint query\n",
    "retrieved_documents = vectorstore.similarity_search(joint_query, k=5)\n",
    "\n",
    "print(\"Retrieved Documents:\")\n",
    "for idx, doc in enumerate(retrieved_documents, 1):\n",
    "    print(f\"Document {idx}:\\n{doc.page_content}\\n\")"
   ]
  },
  {
   "cell_type": "code",
   "execution_count": 12,
   "metadata": {},
   "outputs": [
    {
     "name": "stdout",
     "output_type": "stream",
     "text": [
      "Answer:\n",
      "Yes, there is a non-compete obligation for the Advisor. According to the contract, during the term of engagement with the Company and for a period of 12 months thereafter, the Advisor shall not be involved in any business that competes with the Company’s Business, nor shall they solicit and/or hire any employee and/or service provider of the Company, without the prior written consent of the Company.\n"
     ]
    }
   ],
   "source": [
    "# 8. Define the RAG function\n",
    "def rag(query, retrieved_documents, model=\"gpt-4o-mini\"):\n",
    "    information = \"\\n\\n\".join([doc.page_content for doc in retrieved_documents])\n",
    "\n",
    "    messages = [\n",
    "        {\n",
    "            \"role\": \"system\",\n",
    "            \"content\": (\n",
    "                \"You are a helpful expert contract advisor assistant. Your users are asking questions about information \"\n",
    "                \"contained in a legal contract. Answer the user's question using only the provided information.\"\n",
    "            )\n",
    "        },\n",
    "        {\n",
    "            \"role\": \"user\",\n",
    "            \"content\": f\"Question: {query}\\n\\nInformation:\\n{information}\\n\\nAnswer:\"\n",
    "        }\n",
    "    ]\n",
    "\n",
    "    \n",
    "    response = openai_client.chat.completions.create(\n",
    "            model=model,\n",
    "            messages=messages,\n",
    "        )\n",
    "    content = response.choices[0].message.content\n",
    "    return content\n",
    "# 9. Generate the final answer\n",
    "Answer = rag(query=original_query, retrieved_documents=retrieved_documents)\n",
    "\n",
    "print(\"Answer:\")\n",
    "print(Answer)\n"
   ]
  }
 ],
 "metadata": {
  "kernelspec": {
   "display_name": "venv",
   "language": "python",
   "name": "python3"
  },
  "language_info": {
   "codemirror_mode": {
    "name": "ipython",
    "version": 3
   },
   "file_extension": ".py",
   "mimetype": "text/x-python",
   "name": "python",
   "nbconvert_exporter": "python",
   "pygments_lexer": "ipython3",
   "version": "3.10.2"
  }
 },
 "nbformat": 4,
 "nbformat_minor": 2
}
