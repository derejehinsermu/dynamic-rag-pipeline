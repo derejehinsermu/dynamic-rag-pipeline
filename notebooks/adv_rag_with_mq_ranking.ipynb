{
 "cells": [
  {
   "cell_type": "code",
   "execution_count": 1,
   "metadata": {},
   "outputs": [],
   "source": [
    "import os\n",
    "import sys\n",
    "\n",
    "# Get the absolute path of the scripts directory\n",
    "root_path_scripts = os.path.abspath(os.path.join(os.getcwd(), '../scripts/'))\n",
    "\n",
    "# Add the scripts directory to sys.path\n",
    "sys.path.append(root_path_scripts)\n",
    "\n",
    "# Import the function from load-docs.py\n",
    "from load_docs import load_document "
   ]
  },
  {
   "cell_type": "code",
   "execution_count": 16,
   "metadata": {},
   "outputs": [],
   "source": [
    "from dotenv import load_dotenv\n",
    "from langchain.embeddings import OpenAIEmbeddings\n",
    "from langchain.text_splitter import RecursiveCharacterTextSplitter\n",
    "from langchain.vectorstores import Chroma\n",
    "from langchain.chat_models import ChatOpenAI\n",
    "# from langchain.embeddings import SentenceTransformerEmbeddings\n",
    "# from chromadb.utils import embedding_functions\n",
    "from langchain.embeddings import HuggingFaceEmbeddings\n",
    "from sentence_transformers import CrossEncoder  # Import CrossEncoder\n",
    "\n",
    "import openai\n",
    "from openai import OpenAI\n",
    "\n",
    "# load env variable\n",
    "load_dotenv()\n",
    "\n",
    "openai_client = OpenAI()\n",
    "openai_api_key = os.getenv('OPENAI_API_KEY')"
   ]
  },
  {
   "cell_type": "code",
   "execution_count": 4,
   "metadata": {},
   "outputs": [],
   "source": [
    "# Load the document(s)\n",
    "file_path = 'Robinson Advisory.docx'  # Replace with your actual file path\n",
    "documents = load_document(\"../data/Robinson Advisory.docx\")"
   ]
  },
  {
   "cell_type": "code",
   "execution_count": 7,
   "metadata": {},
   "outputs": [],
   "source": [
    "\n",
    "# Split the documents into chunks\n",
    "text_splitter = RecursiveCharacterTextSplitter(chunk_size=1000, chunk_overlap=200)\n",
    "split_docs = text_splitter.split_documents(documents)\n",
    "\n",
    "# Initialize Embedding model\n",
    "# embeddings = SentenceTransformerEmbeddingFunction()\n",
    "# embeddings = SentenceTransformerEmbeddings(model_name=\"all-MiniLM-L6-v2\")\n",
    "\n",
    "embeddings = HuggingFaceEmbeddings(model_name=\"all-MiniLM-L6-v2\")\n",
    "vectorstore = Chroma.from_documents(documents=split_docs, embedding=embeddings)\n"
   ]
  },
  {
   "cell_type": "code",
   "execution_count": 8,
   "metadata": {},
   "outputs": [],
   "source": [
    "# 5. Define the function to generate multiple related queries\n",
    "def augment_multiple_query(query, model=\"gpt-4o-mini\"):\n",
    "    messages = [\n",
    "        {\n",
    "            \"role\": \"system\",\n",
    "            \"content\": \n",
    "                       \"You are a helpful expert contract advisor assistant. Your users are asking questions about legal contract.\"\n",
    "                       \"Suggest up to ten additional related questions to help the user find the information they need based on the provided question. \"\n",
    "                        \"Suggest only short questions without compound sentences. Suggest a variety of questions that cover different aspects of the topic.\"\n",
    "                        \"Make sure they are complete questions, and that they are related to the original question.\"\n",
    "                        \"Output one question per line. Do not number the questions.\"\n",
    "                       \n",
    "                     \n",
    "\n",
    "        },\n",
    "        {\"role\": \"user\", \"content\": query}\n",
    "    ]\n",
    "    response = openai_client.chat.completions.create(\n",
    "            model=model,\n",
    "            messages=messages,\n",
    "        )\n",
    "    content = response.choices[0].message.content\n",
    "    return content.split(\"\\n\")"
   ]
  },
  {
   "cell_type": "code",
   "execution_count": 11,
   "metadata": {},
   "outputs": [
    {
     "name": "stdout",
     "output_type": "stream",
     "text": [
      "What is a non-compete obligation?  \n",
      "How is a non-compete clause enforced?  \n",
      "What are the typical terms of a non-compete agreement?  \n",
      "Can non-compete clauses vary by jurisdiction?  \n",
      "What are the consequences of violating a non-compete?  \n",
      "Are there any exceptions to non-compete agreements?  \n",
      "How long do non-compete obligations last?  \n",
      "What is the purpose of a non-compete obligation?  \n",
      "Can an advisor negotiate a non-compete clause?  \n",
      "What should I include in a non-compete agreement?\n",
      "***************************************************************************\n",
      "concatenated query\n",
      "Is there a non-compete obligation to the Advisor?\n",
      "What is a non-compete obligation?  \n",
      "How is a non-compete clause enforced?  \n",
      "What are the typical terms of a non-compete agreement?  \n",
      "Can non-compete clauses vary by jurisdiction?  \n",
      "What are the consequences of violating a non-compete?  \n",
      "Are there any exceptions to non-compete agreements?  \n",
      "How long do non-compete obligations last?  \n",
      "What is the purpose of a non-compete obligation?  \n",
      "Can an advisor negotiate a non-compete clause?  \n",
      "What should I include in a non-compete agreement?\n"
     ]
    }
   ],
   "source": [
    "original_query = \"Is there a non-compete obligation to the Advisor?\"\n",
    "\n",
    "# 6. Generate multiple related queries\n",
    "# original_query = \"What is the termination notice?\"\n",
    "augmented_queries = augment_multiple_query(original_query)\n",
    "queries = [original_query] + augmented_queries\n"
   ]
  },
  {
   "cell_type": "code",
   "execution_count": 13,
   "metadata": {},
   "outputs": [
    {
     "name": "stdout",
     "output_type": "stream",
     "text": [
      "generated query\n",
      "What is a non-compete obligation?  \n",
      "How is a non-compete clause enforced?  \n",
      "What are the typical terms of a non-compete agreement?  \n",
      "Can non-compete clauses vary by jurisdiction?  \n",
      "What are the consequences of violating a non-compete?  \n",
      "Are there any exceptions to non-compete agreements?  \n",
      "How long do non-compete obligations last?  \n",
      "What is the purpose of a non-compete obligation?  \n",
      "Can an advisor negotiate a non-compete clause?  \n",
      "What should I include in a non-compete agreement?\n",
      "/***************************************************************************/\n",
      "concatenated query\n",
      "Is there a non-compete obligation to the Advisor?\n",
      "What is a non-compete obligation?  \n",
      "How is a non-compete clause enforced?  \n",
      "What are the typical terms of a non-compete agreement?  \n",
      "Can non-compete clauses vary by jurisdiction?  \n",
      "What are the consequences of violating a non-compete?  \n",
      "Are there any exceptions to non-compete agreements?  \n",
      "How long do non-compete obligations last?  \n",
      "What is the purpose of a non-compete obligation?  \n",
      "Can an advisor negotiate a non-compete clause?  \n",
      "What should I include in a non-compete agreement?\n"
     ]
    }
   ],
   "source": [
    "print(f\"generated query\")\n",
    "for query in augmented_queries:\n",
    "    print(query)\n",
    "# print(augmented_queries)/\n",
    "# queries = [original_query] + [query for query in augmented_queries if query.strip()]\n",
    "print(\"/***************************************************************************/\")\n",
    "print(\"concatenated query\")\n",
    "for query in queries:\n",
    "    print(query)"
   ]
  },
  {
   "cell_type": "code",
   "execution_count": 15,
   "metadata": {},
   "outputs": [],
   "source": [
    "# Verify the queries are in expected format\n",
    "for idx, query in enumerate(queries):\n",
    "    if not isinstance(query, str):\n",
    "        raise TypeError(f\"Query {idx} is not a string: {query}\")\n",
    "\n",
    "# 7. Perform similarity search individually for each query\n",
    "retrieved_documents = set()\n",
    "for query in queries:\n",
    "    try:\n",
    "        # Perform similarity search with score for each individual query\n",
    "        results = vectorstore.similarity_search_with_score(query=query, k=10)\n",
    "        # Combine results from all queries\n",
    "        for doc, score in results:\n",
    "            if isinstance(doc.page_content, str):\n",
    "                retrieved_documents.add(doc.page_content)\n",
    "            else:\n",
    "                print(f\"Document content is not a string: {doc.page_content}\")\n",
    "    except Exception as e:\n",
    "        print(f\"Error during similarity search for query '{query}': {e}\")\n"
   ]
  },
  {
   "cell_type": "code",
   "execution_count": 19,
   "metadata": {},
   "outputs": [
    {
     "name": "stdout",
     "output_type": "stream",
     "text": [
      "0.020573858\n",
      "-0.7033981\n",
      "4.598853\n",
      "-5.757897\n",
      "-9.366277\n",
      "-0.25545642\n",
      "6.6623535\n",
      "-6.467209\n",
      "2.3123977\n",
      "0.8625152\n",
      "-6.8046427\n"
     ]
    }
   ],
   "source": [
    "\n",
    "# Deduplicate the retrieved documents\n",
    "unique_documents = list(retrieved_documents)  # Convert to list for further processing\n",
    "\n",
    "# Re-ranking step using CrossEncoder\n",
    "cross_encoder = CrossEncoder('cross-encoder/ms-marco-MiniLM-L-6-v2')\n",
    "pairs = [[original_query, doc] for doc in unique_documents]\n",
    "scores = cross_encoder.predict(pairs)\n",
    "for score in scores:\n",
    "    print(score)\n"
   ]
  },
  {
   "cell_type": "code",
   "execution_count": 21,
   "metadata": {},
   "outputs": [],
   "source": [
    "import numpy as np"
   ]
  },
  {
   "cell_type": "code",
   "execution_count": 22,
   "metadata": {},
   "outputs": [
    {
     "name": "stdout",
     "output_type": "stream",
     "text": [
      "New Ordering:\n",
      "6\n",
      "2\n",
      "8\n",
      "9\n",
      "0\n",
      "5\n",
      "1\n",
      "3\n",
      "7\n",
      "10\n",
      "4\n"
     ]
    }
   ],
   "source": [
    "print(\"New Ordering:\")\n",
    "for o in np.argsort(scores)[::-1]:\n",
    "    print(o)"
   ]
  },
  {
   "cell_type": "code",
   "execution_count": 23,
   "metadata": {},
   "outputs": [],
   "source": [
    "# Print the retrieved documents with scores\n",
    "ranked_documents = sorted(zip(scores, retrieved_documents), reverse=True, key=lambda x: x[0])\n",
    "\n",
    "# Select top 5 documents after re-ranking\n",
    "top_5_documents = [doc for score, doc in ranked_documents[:5]]"
   ]
  },
  {
   "cell_type": "code",
   "execution_count": 24,
   "metadata": {},
   "outputs": [
    {
     "name": "stdout",
     "output_type": "stream",
     "text": [
      "Top 5 Re-ranked Documents:\n",
      "Document 1:\n",
      "Non-Compete: During the term of engagement with the Company and for a period of 12 months thereafter, Advisor shall not be involved, as an employee, owner, contractor or otherwise, in any business, which competes with the Company’s Business, and shall not solicit and/or hire any employee and/or service provider of the Company, without the prior written consent of the Company.\n",
      "\n",
      "\n",
      "Personnel: The Advisor may provide the Services only directly or through employees, contractors or agents (“Personnel”), which were specifically approved by the Company, and have committed in writing to confidentiality and ownership rights towards the Advisor and/or the Company, in a form restrictive enough to allow Advisor to comply and enforce the commitments under this undertaking (“Authorized Personnel”). Without limiting the foregoing, the Advisor is liable hereunder for any breach of this undertaking by any Advisor Personnel.\n",
      "\n",
      "Document 2:\n",
      "Advisor shall be solely responsible for any income taxes or other assessments made or imposed by any governmental authority on Advisor with respect to the Services rendered and the compensation received hereunder, and any and all expenses and costs of himself, employees, agents and representatives, including, without limitation, any salary, overtime, severance or social benefits payable thereto, and marketing costs incurred in connection with the performance of obligations hereunder.\n",
      "\n",
      "\n",
      "\n",
      "\t\tConfidentiality, Non-Competition and IP Ownership Undertaking: In connection with the performance of Advisor’s obligations under this Agreement, the Advisor shall execute a Confidentiality, Non-Competition and IP Ownership Undertaking in the form attached hereto as Exhibit A.\n",
      "\n",
      "Document 3:\n",
      "No Conflicts: Advisor represents that there is no contractual or other legal restriction preventing or limiting him/her from entering into this Agreement or performing any of his/her obligations hereunder. Advisor shall immediately and without delay inform the Company of any affairs and/or matters that might constitute a conflict of interest with his/her services to Company and/or the interests of the Company. Advisor agrees to indemnify, defend and hold harmless the Company and its directors, officers and employees against all claims, liabilities, and costs, including reasonable attorneys' fees in connection with any breach by Advisor, of any obligations pursuant to a prior or existing engagement with any other third party, including without limitation other employers or clients.\n",
      "\n",
      "\n",
      "\n",
      "\t\tTerm: The term of this Agreement shall commence on the Effective Date and shall continue until terminated in accordance with the provisions herein (the \"Term\").\n",
      "\n",
      "Document 4:\n",
      "Whereas, \tAdvisor has agreed to provide the Company with such services, subject to the terms set forth in this Agreement.\n",
      "\n",
      "\n",
      "\n",
      "NOW THEREFORE THE PARTIES AGREE AS FOLLOWS:\n",
      "\n",
      "\n",
      "\n",
      "Services:  \n",
      "\n",
      "Advisor shall provide to the Company, as an independent contractor, software development services, and / or any other services as agreed by the parties from time to time (the “Services”). Advisor shall not appoint any sub-agents or delegates in connection with performance of the Services, nor assign any of his obligations or rights hereunder without obtaining the prior written consent of the Company. \n",
      "\n",
      "Without derogating from the foregoing, the Advisor shall not be required to provide the Services for a period of eighteen (18) days in each 12-month period.\n",
      "\n",
      "Document 5:\n",
      "Third Parties: The Advisor represents that the performance of the Services and the terms of this Undertaking, do not and will not breach any right, contractual or other, of any employer, customer or other third party. Advisor acknowledges that the Company is relying upon the truthfulness and accuracy of such representations in engaging with the Advisor. Advisor specifically undertakes not to use any proprietary and/or confidential information belonging to the Advisor and/or any third party while performing the Services and in case any Advisor proprietary or confidential information is used, such information will be automatically assigned to the Company and become its full and exclusive property.\n",
      "\n"
     ]
    }
   ],
   "source": [
    "\n",
    "print(\"Top 5 Re-ranked Documents:\")\n",
    "for idx, doc in enumerate(top_5_documents, 1):\n",
    "    print(f\"Document {idx}:\\n{doc}\\n\")\n"
   ]
  },
  {
   "cell_type": "code",
   "execution_count": 25,
   "metadata": {},
   "outputs": [
    {
     "name": "stdout",
     "output_type": "stream",
     "text": [
      "Answer:\n",
      "Yes, there is a non-compete obligation to the Advisor. According to the provided contract information, the Advisor is prohibited from being involved in any business that competes with the Company’s business during the term of engagement and for a period of 12 months thereafter, without the prior written consent of the Company. This includes not soliciting or hiring any employee or service provider of the Company.\n"
     ]
    }
   ],
   "source": [
    "\n",
    "# 8. Define the RAG function using the re-ranked documents\n",
    "def rag(query, retrieved_documents, model=\"gpt-4o-mini\"):\n",
    "    information = \"\\n\\n\".join([doc for doc in retrieved_documents])\n",
    "\n",
    "    messages = [\n",
    "        {\n",
    "            \"role\": \"system\",\n",
    "            \"content\": (\n",
    "                \"You are a helpful expert contract advisor assistant. Your users are asking questions about information \"\n",
    "                \"contained in a legal contract. Answer the user's question using only the provided information.\"\n",
    "            )\n",
    "        },\n",
    "        {\n",
    "            \"role\": \"user\",\n",
    "            \"content\": f\"Question: {query}\\n\\nInformation:\\n{information}\\n\\nAnswer:\"\n",
    "        }\n",
    "    ]\n",
    "\n",
    "    response = openai_client.chat.completions.create(\n",
    "            model=model,\n",
    "            messages=messages,\n",
    "        )\n",
    "    content = response.choices[0].message.content\n",
    "    return content\n",
    "\n",
    "# 9. Generate the final answer using the RAG function with re-ranked top 5 documents\n",
    "Answer = rag(query=original_query, retrieved_documents=top_5_documents)\n",
    "\n",
    "print(\"Answer:\")\n",
    "print(Answer)\n"
   ]
  }
 ],
 "metadata": {
  "kernelspec": {
   "display_name": "venv",
   "language": "python",
   "name": "python3"
  },
  "language_info": {
   "codemirror_mode": {
    "name": "ipython",
    "version": 3
   },
   "file_extension": ".py",
   "mimetype": "text/x-python",
   "name": "python",
   "nbconvert_exporter": "python",
   "pygments_lexer": "ipython3",
   "version": "3.10.2"
  }
 },
 "nbformat": 4,
 "nbformat_minor": 2
}
